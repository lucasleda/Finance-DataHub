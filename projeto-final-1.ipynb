{
 "cells": [
  {
   "cell_type": "markdown",
   "metadata": {},
   "source": [
    "instalando API"
   ]
  },
  {
   "cell_type": "code",
   "execution_count": 43,
   "metadata": {},
   "outputs": [],
   "source": [
    "from plyer import notification # Importa a função notification da biblioteca plyer para exibir notificações\n",
    "import pandas as pd\n",
    "import requests # Importa a biblioteca requests para fazer requisições HTTP\n",
    "import json"
   ]
  },
  {
   "cell_type": "markdown",
   "metadata": {},
   "source": [
    "Conexao com API e alerta de status da requisição"
   ]
  },
  {
   "cell_type": "code",
   "execution_count": 52,
   "metadata": {},
   "outputs": [
    {
     "name": "stdout",
     "output_type": "stream",
     "text": [
      "Código API Bank: 200\n",
      "Código API Feriados: 200\n",
      "Código API PIX: 200\n"
     ]
    }
   ],
   "source": [
    "\n",
    "# URLs da API\n",
    "api_url_banks = \"https://brasilapi.com.br/api/banks/v1\"  # URL da API para os bancos\n",
    "api_url_feriados = \"https://brasilapi.com.br/api/feriados/v1/2024\"  # URL da API para feriados (substitua \"2024\" pelo ano desejado)\n",
    "api_url_pix = \"https://brasilapi.com.br/api/pix/v1/participants\"  # URL da API para participantes do PIX\n",
    "\n",
    "# Chamada API e obtenção de resposta\n",
    "response_bank = requests.get(api_url_banks)  # Faz a requisição para a API de bancos e obtém a resposta\n",
    "response_feriados = requests.get(api_url_feriados)  # Faz a requisição para a API de feriados e obtém a resposta\n",
    "response_pix = requests.get(api_url_pix)  # Faz a requisição para a API de participantes do PIX e obtém a resposta\n",
    "\n",
    "# Validação e processamento dos dados da API Banks\n",
    "if response_bank.status_code == 200:  # Verifica se a resposta da API de bancos foi bem-sucedida\n",
    "    data_bank = response_bank.json()  # Converte a resposta da API de bancos para formato JSON\n",
    "    notification.notify(  # Exibe uma notificação informando que a requisição foi concluída com sucesso\n",
    "        title='Requisição Banks Brasil API',\n",
    "        message=\"Requisição concluída com sucesso. \\nCódigo: \" + str(response_bank.status_code),\n",
    "        timeout=15\n",
    "    )\n",
    "    print(\"Código API Bank:\", response_bank.status_code)  # Imprime o código de status da resposta da API de bancos\n",
    "else:\n",
    "    notification.notify(  # Exibe uma notificação informando que ocorreu um erro na requisição para a API de bancos\n",
    "        title='Erro na requisição Banks API',\n",
    "        message=\"Houve um erro ao acessar a API. \\nCódigo do erro: \" + str(response_bank.status_code),\n",
    "        timeout=10\n",
    "    )\n",
    "    print(\"Código API Bank:\", response_bank.status_code)  # Imprime o código de status da resposta da API de bancos\n",
    "\n",
    "# Validação e processamento dos dados da API Feriados\n",
    "if response_feriados.status_code == 200:  # Verifica se a resposta da API de feriados foi bem-sucedida\n",
    "    data_feriados = response_feriados.json()  # Converte a resposta da API de feriados para formato JSON\n",
    "    notification.notify(  # Exibe uma notificação informando que a requisição foi concluída com sucesso\n",
    "        title='Requisição Feriados Brasil API',\n",
    "        message=f\"Requisição concluída com sucesso. \\nCódigo: {response_feriados.status_code}\",\n",
    "        timeout=15\n",
    "    )\n",
    "    print(\"Código API Feriados:\", response_feriados.status_code)  # Imprime o código de status da resposta da API de feriados\n",
    "else:\n",
    "    notification.notify(  # Exibe uma notificação informando que ocorreu um erro na requisição para a API de feriados\n",
    "        title='Erro na requisição Feriados API',\n",
    "        message=f\"Houve um erro ao acessar a API de Feriados. \\nCódigo do erro: {response_feriados.status_code}\",\n",
    "        timeout=10\n",
    "    )\n",
    "    print(\"Código API Feriados:\", response_feriados.status_code)  # Imprime o código de status da resposta da API de feriados\n",
    "\n",
    "# Validação e processamento dos dados da API PIX\n",
    "if response_pix.status_code == 200:  # Verifica se a resposta da API do PIX foi bem-sucedida\n",
    "    data_pix = response_pix.json()  # Converte a resposta da API do PIX para formato JSON\n",
    "    notification.notify(  # Exibe uma notificação informando que a requisição foi concluída com sucesso\n",
    "        title='Requisição PIX Brasil API',\n",
    "        message=\"Requisição concluída com sucesso. \\nCódigo: \" + str(response_pix.status_code),\n",
    "        timeout=15\n",
    "    )\n",
    "    print(\"Código API PIX:\", response_pix.status_code)  # Imprime o código de status da resposta da API do PIX\n",
    "else:\n",
    "    notification.notify(  # Exibe uma notificação informando que ocorreu um erro na requisição para a API do PIX\n",
    "        title='Erro na requisição PIX API',\n",
    "        message=\"Houve um erro ao acessar a API. \\nCódigo do erro: \" + str(response_pix.status_code),\n",
    "        timeout=10\n",
    "    )\n",
    "    print(\"Código API PIX:\", response_pix.status_code)"
   ]
  },
  {
   "cell_type": "markdown",
   "metadata": {},
   "source": [
    "Extração de tabelas"
   ]
  },
  {
   "cell_type": "markdown",
   "metadata": {},
   "source": [
    "Tabela 1- Bancos no Brasil"
   ]
  },
  {
   "cell_type": "code",
   "execution_count": 53,
   "metadata": {},
   "outputs": [
    {
     "data": {
      "text/html": [
       "<div>\n",
       "<style scoped>\n",
       "    .dataframe tbody tr th:only-of-type {\n",
       "        vertical-align: middle;\n",
       "    }\n",
       "\n",
       "    .dataframe tbody tr th {\n",
       "        vertical-align: top;\n",
       "    }\n",
       "\n",
       "    .dataframe thead th {\n",
       "        text-align: right;\n",
       "    }\n",
       "</style>\n",
       "<table border=\"1\" class=\"dataframe\">\n",
       "  <thead>\n",
       "    <tr style=\"text-align: right;\">\n",
       "      <th></th>\n",
       "      <th>ispb</th>\n",
       "      <th>name</th>\n",
       "      <th>code</th>\n",
       "      <th>fullName</th>\n",
       "    </tr>\n",
       "  </thead>\n",
       "  <tbody>\n",
       "    <tr>\n",
       "      <th>0</th>\n",
       "      <td>00000000</td>\n",
       "      <td>BCO DO BRASIL S.A.</td>\n",
       "      <td>1.0</td>\n",
       "      <td>Banco do Brasil S.A.</td>\n",
       "    </tr>\n",
       "    <tr>\n",
       "      <th>1</th>\n",
       "      <td>00000208</td>\n",
       "      <td>BRB - BCO DE BRASILIA S.A.</td>\n",
       "      <td>70.0</td>\n",
       "      <td>BRB - BANCO DE BRASILIA S.A.</td>\n",
       "    </tr>\n",
       "    <tr>\n",
       "      <th>2</th>\n",
       "      <td>00038121</td>\n",
       "      <td>Selic</td>\n",
       "      <td>Sem informação</td>\n",
       "      <td>Banco Central do Brasil - Selic</td>\n",
       "    </tr>\n",
       "    <tr>\n",
       "      <th>3</th>\n",
       "      <td>00038166</td>\n",
       "      <td>Bacen</td>\n",
       "      <td>Sem informação</td>\n",
       "      <td>Banco Central do Brasil</td>\n",
       "    </tr>\n",
       "    <tr>\n",
       "      <th>4</th>\n",
       "      <td>00122327</td>\n",
       "      <td>SANTINVEST S.A. - CFI</td>\n",
       "      <td>539.0</td>\n",
       "      <td>SANTINVEST S.A. - CREDITO, FINANCIAMENTO E INV...</td>\n",
       "    </tr>\n",
       "    <tr>\n",
       "      <th>...</th>\n",
       "      <td>...</td>\n",
       "      <td>...</td>\n",
       "      <td>...</td>\n",
       "      <td>...</td>\n",
       "    </tr>\n",
       "    <tr>\n",
       "      <th>354</th>\n",
       "      <td>92875780</td>\n",
       "      <td>WARREN CVMC LTDA</td>\n",
       "      <td>371.0</td>\n",
       "      <td>WARREN CORRETORA DE VALORES MOBILIÁRIOS E CÂMB...</td>\n",
       "    </tr>\n",
       "    <tr>\n",
       "      <th>355</th>\n",
       "      <td>92894922</td>\n",
       "      <td>BANCO ORIGINAL</td>\n",
       "      <td>212.0</td>\n",
       "      <td>Banco Original S.A.</td>\n",
       "    </tr>\n",
       "    <tr>\n",
       "      <th>356</th>\n",
       "      <td>94968518</td>\n",
       "      <td>EFX CC LTDA.</td>\n",
       "      <td>289.0</td>\n",
       "      <td>EFX CORRETORA DE CÂMBIO LTDA.</td>\n",
       "    </tr>\n",
       "    <tr>\n",
       "      <th>357</th>\n",
       "      <td></td>\n",
       "      <td>Sem informação</td>\n",
       "      <td>Sem informação</td>\n",
       "      <td>Sem informação</td>\n",
       "    </tr>\n",
       "    <tr>\n",
       "      <th>358</th>\n",
       "      <td></td>\n",
       "      <td>Sem informação</td>\n",
       "      <td>Sem informação</td>\n",
       "      <td>Sem informação</td>\n",
       "    </tr>\n",
       "  </tbody>\n",
       "</table>\n",
       "<p>359 rows × 4 columns</p>\n",
       "</div>"
      ],
      "text/plain": [
       "         ispb                        name            code  \\\n",
       "0    00000000          BCO DO BRASIL S.A.             1.0   \n",
       "1    00000208  BRB - BCO DE BRASILIA S.A.            70.0   \n",
       "2    00038121                       Selic  Sem informação   \n",
       "3    00038166                       Bacen  Sem informação   \n",
       "4    00122327       SANTINVEST S.A. - CFI           539.0   \n",
       "..        ...                         ...             ...   \n",
       "354  92875780            WARREN CVMC LTDA           371.0   \n",
       "355  92894922              BANCO ORIGINAL           212.0   \n",
       "356  94968518                EFX CC LTDA.           289.0   \n",
       "357                        Sem informação  Sem informação   \n",
       "358                        Sem informação  Sem informação   \n",
       "\n",
       "                                              fullName  \n",
       "0                                 Banco do Brasil S.A.  \n",
       "1                         BRB - BANCO DE BRASILIA S.A.  \n",
       "2                      Banco Central do Brasil - Selic  \n",
       "3                              Banco Central do Brasil  \n",
       "4    SANTINVEST S.A. - CREDITO, FINANCIAMENTO E INV...  \n",
       "..                                                 ...  \n",
       "354  WARREN CORRETORA DE VALORES MOBILIÁRIOS E CÂMB...  \n",
       "355                                Banco Original S.A.  \n",
       "356                      EFX CORRETORA DE CÂMBIO LTDA.  \n",
       "357                                     Sem informação  \n",
       "358                                     Sem informação  \n",
       "\n",
       "[359 rows x 4 columns]"
      ]
     },
     "execution_count": 53,
     "metadata": {},
     "output_type": "execute_result"
    }
   ],
   "source": [
    "#Convertendo o JSon para dataFrame pandas\n",
    "bancos_br = pd.DataFrame(data_bank)\n",
    "bancos_br\n",
    "\n",
    "#alterando os readers\n",
    "bancos_br.rename(columns={'name':'nome_banco','code':'codigo','fullName':'nome_completo_do_banco'})\n",
    " \n",
    "#Modificando os NaN para Sem Informação\n",
    "bancos_br.fillna('Sem informação')"
   ]
  },
  {
   "cell_type": "markdown",
   "metadata": {},
   "source": [
    "Tabela 2 - Feriados"
   ]
  },
  {
   "cell_type": "code",
   "execution_count": 54,
   "metadata": {},
   "outputs": [
    {
     "name": "stdout",
     "output_type": "stream",
     "text": [
      "          date                      name      type\n",
      "0   2024-01-01  Confraternização mundial  national\n",
      "1   2024-02-13                  Carnaval  national\n",
      "2   2024-03-29         Sexta-feira Santa  national\n",
      "3   2024-03-31                    Páscoa  national\n",
      "4   2024-04-21                Tiradentes  national\n",
      "5   2024-05-01           Dia do trabalho  national\n",
      "6   2024-05-30            Corpus Christi  national\n",
      "7   2024-09-07   Independência do Brasil  national\n",
      "8   2024-10-12   Nossa Senhora Aparecida  national\n",
      "9   2024-11-02                   Finados  national\n",
      "10  2024-11-15  Proclamação da República  national\n",
      "11  2024-11-20  Dia da consciência negra  national\n",
      "12  2024-12-25                     Natal  national\n"
     ]
    }
   ],
   "source": [
    "# Convertendo o JSON para DataFrame Pandas\n",
    "feriados_br = pd.DataFrame(data_feriados)\n",
    "\n",
    "# Modificando os NaN para \"Sem informação\"\n",
    "feriados_br.fillna('Sem informação', inplace=True)\n",
    "\n",
    "# Exibindo o DataFrame resultante\n",
    "print(feriados_br)"
   ]
  },
  {
   "cell_type": "markdown",
   "metadata": {},
   "source": [
    "Tabela 3 Pix"
   ]
  },
  {
   "cell_type": "code",
   "execution_count": 55,
   "metadata": {},
   "outputs": [
    {
     "name": "stdout",
     "output_type": "stream",
     "text": [
      "Tabela 3 - Participantes do PIX:\n",
      "         ispb                                               nome  \\\n",
      "0    00000000                               BANCO DO BRASIL S.A.   \n",
      "1    00000208                       BRB - BANCO DE BRASILIA S.A.   \n",
      "2    00068987  COOPERATIVA DE CRÉDITO ARACREDI LTDA. - SICOOB...   \n",
      "3    00075847  COOPERATIVA DE CRÉDITO UNICRED CENTRO-SUL LTDA...   \n",
      "4    00106180  CENTRAL DAS COOPERATIVAS DE CRÉDITO DOS ESTADO...   \n",
      "..        ...                                                ...   \n",
      "810  95213211  COOPERATIVA DE CRéDITO, POUPANçA E INVESTIMENT...   \n",
      "811  95424891  COOPERATIVA DE CRÉDITO, POUPANÇA E INVESTIMENT...   \n",
      "812  95594941  COOPERATIVA DE CRÉDITO, POUPANÇA E INVESTIMENT...   \n",
      "813  97259253  COOPERATIVA E ECONOMIA E CRÉDITO MÚTUO DOS MÉD...   \n",
      "814  97489280  COOPERATIVA DE CRÉDITO, POUPANÇA E INVESTIMENT...   \n",
      "\n",
      "                                         nome_reduzido  \\\n",
      "0                                   BCO DO BRASIL S.A.   \n",
      "1                           BRB - BCO DE BRASILIA S.A.   \n",
      "2                                    CC ARACREDI LTDA.   \n",
      "3      CC UNICRED CENTRO-SUL LTDA - UNICRED CENTRO-SUL   \n",
      "4             CCC DOS EST DE MT, MS E MUN DE CACOAL/RO   \n",
      "..                                                 ...   \n",
      "810                  COOP SICREDI CAMINHO DAS ÁGUAS RS   \n",
      "811                     COOP SICREDI VALE DO RIO PARDO   \n",
      "812                      COOP SICREDI REG CENTRO RS/MG   \n",
      "813  CECM MÉDICOS PLANALTO MÉDIO RS - CREDISIS/CRED...   \n",
      "814                      COOP SICREDI INTEGRAÇÃO BAHIA   \n",
      "\n",
      "    modalidade_participacao tipo_participacao           inicio_operacao  \n",
      "0                      PDCT              DRCT  2020-11-03T09:30:00.000Z  \n",
      "1                      PDCT              DRCT  2020-11-03T09:30:00.000Z  \n",
      "2                      PDCT              IDRT  2020-11-03T09:30:00.000Z  \n",
      "3                      PDCT              IDRT  2020-11-03T09:30:00.000Z  \n",
      "4                      PDCT              IDRT  2020-11-03T09:30:00.000Z  \n",
      "..                      ...               ...                       ...  \n",
      "810                    PDCT              IDRT  2020-11-03T09:30:00.000Z  \n",
      "811                    PDCT              IDRT  2020-11-03T09:30:00.000Z  \n",
      "812                    PDCT              IDRT  2020-11-03T09:30:00.000Z  \n",
      "813                    PDCT              IDRT  2021-10-04T12:53:10.567Z  \n",
      "814                    PDCT              IDRT  2020-11-03T09:30:00.000Z  \n",
      "\n",
      "[815 rows x 6 columns]\n"
     ]
    }
   ],
   "source": [
    "# Convertendo o JSON para DataFrame Pandas\n",
    "pix_participantes = pd.DataFrame(data_pix)\n",
    "\n",
    "# Modificando os NaN para \"Sem informação\"\n",
    "pix_participantes.fillna('Sem informação', inplace=True)\n",
    "\n",
    "# Exibindo a tabela 3\n",
    "print(\"Tabela 3 - Participantes do PIX:\")\n",
    "print(pix_participantes)\n"
   ]
  }
 ],
 "metadata": {
  "kernelspec": {
   "display_name": "Python 3",
   "language": "python",
   "name": "python3"
  },
  "language_info": {
   "codemirror_mode": {
    "name": "ipython",
    "version": 3
   },
   "file_extension": ".py",
   "mimetype": "text/x-python",
   "name": "python",
   "nbconvert_exporter": "python",
   "pygments_lexer": "ipython3",
   "version": "3.11.4"
  }
 },
 "nbformat": 4,
 "nbformat_minor": 2
}
